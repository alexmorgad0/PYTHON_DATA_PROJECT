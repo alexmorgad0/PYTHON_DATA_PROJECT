{
 "cells": [
  {
   "cell_type": "markdown",
   "id": "62f62a7e",
   "metadata": {},
   "source": [
    "<a target=\"_blank\" href=\"https://colab.research.google.com/github/lukebarousse/Python_Data_Analytics_Course/blob/main/4_Problems/2_01_Pandas Accessing Data.ipynb\">\n",
    "  <img src=\"https://colab.research.google.com/assets/colab-badge.svg\" alt=\"Open In Colab\"/>\n",
    "</a>"
   ]
  },
  {
   "cell_type": "code",
   "execution_count": 1,
   "id": "c330caa5",
   "metadata": {},
   "outputs": [
    {
     "name": "stderr",
     "output_type": "stream",
     "text": [
      "c:\\Users\\alexm\\anaconda3\\envs\\python_course\\Lib\\site-packages\\tqdm\\auto.py:21: TqdmWarning: IProgress not found. Please update jupyter and ipywidgets. See https://ipywidgets.readthedocs.io/en/stable/user_install.html\n",
      "  from .autonotebook import tqdm as notebook_tqdm\n"
     ]
    }
   ],
   "source": [
    "# Importing Libraries\n",
    "import pandas as pd\n",
    "from datasets import load_dataset\n",
    "import matplotlib.pyplot as plt  \n",
    "\n",
    "# Loading Data\n",
    "dataset = load_dataset('lukebarousse/data_jobs')\n",
    "df = dataset['train'].to_pandas()\n",
    "\n",
    "# Data Cleanup\n",
    "df['job_posted_date'] = pd.to_datetime(df['job_posted_date'])"
   ]
  },
  {
   "cell_type": "markdown",
   "id": "a80f4fde",
   "metadata": {},
   "source": [
    "## 🟩 Select First 5 Rows with .iloc() (2.1.1)"
   ]
  },
  {
   "cell_type": "code",
   "execution_count": 3,
   "id": "f9be5721",
   "metadata": {},
   "outputs": [
    {
     "data": {
      "text/html": [
       "<div>\n",
       "<style scoped>\n",
       "    .dataframe tbody tr th:only-of-type {\n",
       "        vertical-align: middle;\n",
       "    }\n",
       "\n",
       "    .dataframe tbody tr th {\n",
       "        vertical-align: top;\n",
       "    }\n",
       "\n",
       "    .dataframe thead th {\n",
       "        text-align: right;\n",
       "    }\n",
       "</style>\n",
       "<table border=\"1\" class=\"dataframe\">\n",
       "  <thead>\n",
       "    <tr style=\"text-align: right;\">\n",
       "      <th></th>\n",
       "      <th>job_title</th>\n",
       "      <th>job_location</th>\n",
       "    </tr>\n",
       "  </thead>\n",
       "  <tbody>\n",
       "    <tr>\n",
       "      <th>0</th>\n",
       "      <td>Senior Clinical Data Engineer / Principal Clin...</td>\n",
       "      <td>Watertown, CT</td>\n",
       "    </tr>\n",
       "    <tr>\n",
       "      <th>1</th>\n",
       "      <td>Data Analyst</td>\n",
       "      <td>Guadalajara, Jalisco, Mexico</td>\n",
       "    </tr>\n",
       "    <tr>\n",
       "      <th>2</th>\n",
       "      <td>Data Engineer/Scientist/Analyst, Mid or Senior...</td>\n",
       "      <td>Berlin, Germany</td>\n",
       "    </tr>\n",
       "    <tr>\n",
       "      <th>3</th>\n",
       "      <td>LEAD ENGINEER - PRINCIPAL ANALYST - PRINCIPAL ...</td>\n",
       "      <td>San Antonio, TX</td>\n",
       "    </tr>\n",
       "    <tr>\n",
       "      <th>4</th>\n",
       "      <td>Data Engineer- Sr Jobs</td>\n",
       "      <td>Washington, DC</td>\n",
       "    </tr>\n",
       "  </tbody>\n",
       "</table>\n",
       "</div>"
      ],
      "text/plain": [
       "                                           job_title  \\\n",
       "0  Senior Clinical Data Engineer / Principal Clin...   \n",
       "1                                       Data Analyst   \n",
       "2  Data Engineer/Scientist/Analyst, Mid or Senior...   \n",
       "3  LEAD ENGINEER - PRINCIPAL ANALYST - PRINCIPAL ...   \n",
       "4                             Data Engineer- Sr Jobs   \n",
       "\n",
       "                   job_location  \n",
       "0                 Watertown, CT  \n",
       "1  Guadalajara, Jalisco, Mexico  \n",
       "2               Berlin, Germany  \n",
       "3               San Antonio, TX  \n",
       "4                Washington, DC  "
      ]
     },
     "execution_count": 3,
     "metadata": {},
     "output_type": "execute_result"
    }
   ],
   "source": [
    "df.iloc[0:5,1:3]"
   ]
  },
  {
   "cell_type": "markdown",
   "id": "23f90513",
   "metadata": {},
   "source": [
    "---"
   ]
  },
  {
   "cell_type": "markdown",
   "id": "99a28184",
   "metadata": {},
   "source": [
    "## 🟩 Get Rows and Columns with .loc() (2.1.2)"
   ]
  },
  {
   "cell_type": "code",
   "execution_count": 6,
   "id": "0e819754",
   "metadata": {},
   "outputs": [
    {
     "data": {
      "text/html": [
       "<div>\n",
       "<style scoped>\n",
       "    .dataframe tbody tr th:only-of-type {\n",
       "        vertical-align: middle;\n",
       "    }\n",
       "\n",
       "    .dataframe tbody tr th {\n",
       "        vertical-align: top;\n",
       "    }\n",
       "\n",
       "    .dataframe thead th {\n",
       "        text-align: right;\n",
       "    }\n",
       "</style>\n",
       "<table border=\"1\" class=\"dataframe\">\n",
       "  <thead>\n",
       "    <tr style=\"text-align: right;\">\n",
       "      <th></th>\n",
       "      <th>job_title</th>\n",
       "      <th>job_posted_date</th>\n",
       "    </tr>\n",
       "  </thead>\n",
       "  <tbody>\n",
       "    <tr>\n",
       "      <th>5</th>\n",
       "      <td>GCP Data Engineer</td>\n",
       "      <td>2023-11-07 14:01:59</td>\n",
       "    </tr>\n",
       "    <tr>\n",
       "      <th>6</th>\n",
       "      <td>Senior Data Engineer  - GCP Cloud</td>\n",
       "      <td>2023-03-27 13:18:18</td>\n",
       "    </tr>\n",
       "    <tr>\n",
       "      <th>7</th>\n",
       "      <td>Data Engineer</td>\n",
       "      <td>2023-12-07 13:40:49</td>\n",
       "    </tr>\n",
       "    <tr>\n",
       "      <th>8</th>\n",
       "      <td>Technology &amp; Operations Business Analyst</td>\n",
       "      <td>2023-06-05 13:44:34</td>\n",
       "    </tr>\n",
       "    <tr>\n",
       "      <th>9</th>\n",
       "      <td>Data Scientist II</td>\n",
       "      <td>2023-04-23 13:02:57</td>\n",
       "    </tr>\n",
       "  </tbody>\n",
       "</table>\n",
       "</div>"
      ],
      "text/plain": [
       "                                  job_title     job_posted_date\n",
       "5                         GCP Data Engineer 2023-11-07 14:01:59\n",
       "6         Senior Data Engineer  - GCP Cloud 2023-03-27 13:18:18\n",
       "7                             Data Engineer 2023-12-07 13:40:49\n",
       "8  Technology & Operations Business Analyst 2023-06-05 13:44:34\n",
       "9                         Data Scientist II 2023-04-23 13:02:57"
      ]
     },
     "execution_count": 6,
     "metadata": {},
     "output_type": "execute_result"
    }
   ],
   "source": [
    "df.loc[5:9][['job_title','job_posted_date']]"
   ]
  },
  {
   "cell_type": "markdown",
   "id": "12c9f18d",
   "metadata": {},
   "source": [
    "---"
   ]
  },
  {
   "cell_type": "markdown",
   "id": "952eb7fe",
   "metadata": {},
   "source": [
    "## 🟨 First 15 Rows in US (2.1.3)"
   ]
  },
  {
   "cell_type": "code",
   "execution_count": 14,
   "id": "4b2165ea",
   "metadata": {},
   "outputs": [
    {
     "data": {
      "text/html": [
       "<div>\n",
       "<style scoped>\n",
       "    .dataframe tbody tr th:only-of-type {\n",
       "        vertical-align: middle;\n",
       "    }\n",
       "\n",
       "    .dataframe tbody tr th {\n",
       "        vertical-align: top;\n",
       "    }\n",
       "\n",
       "    .dataframe thead th {\n",
       "        text-align: right;\n",
       "    }\n",
       "</style>\n",
       "<table border=\"1\" class=\"dataframe\">\n",
       "  <thead>\n",
       "    <tr style=\"text-align: right;\">\n",
       "      <th></th>\n",
       "      <th>job_title</th>\n",
       "      <th>salary_year_avg</th>\n",
       "    </tr>\n",
       "  </thead>\n",
       "  <tbody>\n",
       "    <tr>\n",
       "      <th>0</th>\n",
       "      <td>Senior Clinical Data Engineer / Principal Clin...</td>\n",
       "      <td>NaN</td>\n",
       "    </tr>\n",
       "    <tr>\n",
       "      <th>3</th>\n",
       "      <td>LEAD ENGINEER - PRINCIPAL ANALYST - PRINCIPAL ...</td>\n",
       "      <td>NaN</td>\n",
       "    </tr>\n",
       "    <tr>\n",
       "      <th>5</th>\n",
       "      <td>GCP Data Engineer</td>\n",
       "      <td>NaN</td>\n",
       "    </tr>\n",
       "    <tr>\n",
       "      <th>6</th>\n",
       "      <td>Senior Data Engineer  - GCP Cloud</td>\n",
       "      <td>NaN</td>\n",
       "    </tr>\n",
       "    <tr>\n",
       "      <th>9</th>\n",
       "      <td>Data Scientist II</td>\n",
       "      <td>NaN</td>\n",
       "    </tr>\n",
       "    <tr>\n",
       "      <th>11</th>\n",
       "      <td>Data Engineer</td>\n",
       "      <td>NaN</td>\n",
       "    </tr>\n",
       "    <tr>\n",
       "      <th>13</th>\n",
       "      <td>Senior Data Engineer</td>\n",
       "      <td>NaN</td>\n",
       "    </tr>\n",
       "    <tr>\n",
       "      <th>17</th>\n",
       "      <td>Data Science Team Lead</td>\n",
       "      <td>NaN</td>\n",
       "    </tr>\n",
       "    <tr>\n",
       "      <th>26</th>\n",
       "      <td>Data Engineer</td>\n",
       "      <td>NaN</td>\n",
       "    </tr>\n",
       "    <tr>\n",
       "      <th>27</th>\n",
       "      <td>Principal Data Engineer (Lead), Knowledge Grap...</td>\n",
       "      <td>NaN</td>\n",
       "    </tr>\n",
       "    <tr>\n",
       "      <th>30</th>\n",
       "      <td>Senior Data Engineer (Work from home Eligible)</td>\n",
       "      <td>NaN</td>\n",
       "    </tr>\n",
       "    <tr>\n",
       "      <th>32</th>\n",
       "      <td>Sr. Data Scientist (NLP) - Full-time / Part-time</td>\n",
       "      <td>NaN</td>\n",
       "    </tr>\n",
       "    <tr>\n",
       "      <th>35</th>\n",
       "      <td>Data Engineer - Royal Canin</td>\n",
       "      <td>NaN</td>\n",
       "    </tr>\n",
       "    <tr>\n",
       "      <th>36</th>\n",
       "      <td>Data Analyst</td>\n",
       "      <td>NaN</td>\n",
       "    </tr>\n",
       "    <tr>\n",
       "      <th>37</th>\n",
       "      <td>Data Engineer III - Now Hiring</td>\n",
       "      <td>NaN</td>\n",
       "    </tr>\n",
       "  </tbody>\n",
       "</table>\n",
       "</div>"
      ],
      "text/plain": [
       "                                            job_title  salary_year_avg\n",
       "0   Senior Clinical Data Engineer / Principal Clin...              NaN\n",
       "3   LEAD ENGINEER - PRINCIPAL ANALYST - PRINCIPAL ...              NaN\n",
       "5                                   GCP Data Engineer              NaN\n",
       "6                   Senior Data Engineer  - GCP Cloud              NaN\n",
       "9                                   Data Scientist II              NaN\n",
       "11                                      Data Engineer              NaN\n",
       "13                               Senior Data Engineer              NaN\n",
       "17                             Data Science Team Lead              NaN\n",
       "26                                      Data Engineer              NaN\n",
       "27  Principal Data Engineer (Lead), Knowledge Grap...              NaN\n",
       "30     Senior Data Engineer (Work from home Eligible)              NaN\n",
       "32   Sr. Data Scientist (NLP) - Full-time / Part-time              NaN\n",
       "35                        Data Engineer - Royal Canin              NaN\n",
       "36                                       Data Analyst              NaN\n",
       "37                     Data Engineer III - Now Hiring              NaN"
      ]
     },
     "execution_count": 14,
     "metadata": {},
     "output_type": "execute_result"
    }
   ],
   "source": [
    "country_us = df[df['job_country'] == 'United States']\n",
    "\n",
    "df_us = df[df['job_country'] == 'United States']\n",
    "df_us[['job_title', 'salary_year_avg']].iloc[:15]"
   ]
  },
  {
   "cell_type": "markdown",
   "id": "bc171b93",
   "metadata": {},
   "source": [
    "---"
   ]
  },
  {
   "cell_type": "markdown",
   "id": "00c7ed0f",
   "metadata": {},
   "source": [
    "## 🟥 Filter by Date (2.1.4)"
   ]
  },
  {
   "cell_type": "code",
   "execution_count": 20,
   "id": "3ac64380",
   "metadata": {},
   "outputs": [
    {
     "data": {
      "text/html": [
       "<div>\n",
       "<style scoped>\n",
       "    .dataframe tbody tr th:only-of-type {\n",
       "        vertical-align: middle;\n",
       "    }\n",
       "\n",
       "    .dataframe tbody tr th {\n",
       "        vertical-align: top;\n",
       "    }\n",
       "\n",
       "    .dataframe thead th {\n",
       "        text-align: right;\n",
       "    }\n",
       "</style>\n",
       "<table border=\"1\" class=\"dataframe\">\n",
       "  <thead>\n",
       "    <tr style=\"text-align: right;\">\n",
       "      <th></th>\n",
       "      <th>job_title</th>\n",
       "      <th>job_location</th>\n",
       "      <th>job_posted_date</th>\n",
       "    </tr>\n",
       "  </thead>\n",
       "  <tbody>\n",
       "    <tr>\n",
       "      <th>0</th>\n",
       "      <td>Senior Clinical Data Engineer / Principal Clin...</td>\n",
       "      <td>Watertown, CT</td>\n",
       "      <td>2023-06-16 13:44:15</td>\n",
       "    </tr>\n",
       "    <tr>\n",
       "      <th>2</th>\n",
       "      <td>Data Engineer/Scientist/Analyst, Mid or Senior...</td>\n",
       "      <td>Berlin, Germany</td>\n",
       "      <td>2023-10-10 13:14:55</td>\n",
       "    </tr>\n",
       "    <tr>\n",
       "      <th>3</th>\n",
       "      <td>LEAD ENGINEER - PRINCIPAL ANALYST - PRINCIPAL ...</td>\n",
       "      <td>San Antonio, TX</td>\n",
       "      <td>2023-07-04 13:01:41</td>\n",
       "    </tr>\n",
       "    <tr>\n",
       "      <th>4</th>\n",
       "      <td>Data Engineer- Sr Jobs</td>\n",
       "      <td>Washington, DC</td>\n",
       "      <td>2023-08-07 14:29:36</td>\n",
       "    </tr>\n",
       "    <tr>\n",
       "      <th>5</th>\n",
       "      <td>GCP Data Engineer</td>\n",
       "      <td>Anywhere</td>\n",
       "      <td>2023-11-07 14:01:59</td>\n",
       "    </tr>\n",
       "    <tr>\n",
       "      <th>...</th>\n",
       "      <td>...</td>\n",
       "      <td>...</td>\n",
       "      <td>...</td>\n",
       "    </tr>\n",
       "    <tr>\n",
       "      <th>785694</th>\n",
       "      <td>Data Engineer</td>\n",
       "      <td>Graz, Austria</td>\n",
       "      <td>2023-05-07 07:07:37</td>\n",
       "    </tr>\n",
       "    <tr>\n",
       "      <th>785696</th>\n",
       "      <td>Senior Analytics Engineer</td>\n",
       "      <td>Colombia, Huila, Colombia</td>\n",
       "      <td>2023-10-23 06:31:25</td>\n",
       "    </tr>\n",
       "    <tr>\n",
       "      <th>785698</th>\n",
       "      <td>Data Engineer, Gerencia Business Intelligence</td>\n",
       "      <td>Las Condes, Chile</td>\n",
       "      <td>2023-08-09 06:32:00</td>\n",
       "    </tr>\n",
       "    <tr>\n",
       "      <th>785701</th>\n",
       "      <td>Data Engineer, Gerencia Business Intelligence</td>\n",
       "      <td>Santiago, Chile</td>\n",
       "      <td>2023-08-09 06:31:57</td>\n",
       "    </tr>\n",
       "    <tr>\n",
       "      <th>785706</th>\n",
       "      <td>Junior Data Engineer</td>\n",
       "      <td>Lima, Peru</td>\n",
       "      <td>2023-11-08 06:34:48</td>\n",
       "    </tr>\n",
       "  </tbody>\n",
       "</table>\n",
       "<p>502338 rows × 3 columns</p>\n",
       "</div>"
      ],
      "text/plain": [
       "                                                job_title  \\\n",
       "0       Senior Clinical Data Engineer / Principal Clin...   \n",
       "2       Data Engineer/Scientist/Analyst, Mid or Senior...   \n",
       "3       LEAD ENGINEER - PRINCIPAL ANALYST - PRINCIPAL ...   \n",
       "4                                  Data Engineer- Sr Jobs   \n",
       "5                                       GCP Data Engineer   \n",
       "...                                                   ...   \n",
       "785694                                      Data Engineer   \n",
       "785696                          Senior Analytics Engineer   \n",
       "785698      Data Engineer, Gerencia Business Intelligence   \n",
       "785701      Data Engineer, Gerencia Business Intelligence   \n",
       "785706                               Junior Data Engineer   \n",
       "\n",
       "                     job_location     job_posted_date  \n",
       "0                   Watertown, CT 2023-06-16 13:44:15  \n",
       "2                 Berlin, Germany 2023-10-10 13:14:55  \n",
       "3                 San Antonio, TX 2023-07-04 13:01:41  \n",
       "4                  Washington, DC 2023-08-07 14:29:36  \n",
       "5                        Anywhere 2023-11-07 14:01:59  \n",
       "...                           ...                 ...  \n",
       "785694              Graz, Austria 2023-05-07 07:07:37  \n",
       "785696  Colombia, Huila, Colombia 2023-10-23 06:31:25  \n",
       "785698          Las Condes, Chile 2023-08-09 06:32:00  \n",
       "785701            Santiago, Chile 2023-08-09 06:31:57  \n",
       "785706                 Lima, Peru 2023-11-08 06:34:48  \n",
       "\n",
       "[502338 rows x 3 columns]"
      ]
     },
     "execution_count": 20,
     "metadata": {},
     "output_type": "execute_result"
    }
   ],
   "source": [
    "df.loc[df['job_posted_date'] > '2023-05-01', ['job_title', 'job_location', 'job_posted_date']]\n"
   ]
  },
  {
   "cell_type": "markdown",
   "id": "87cc6677",
   "metadata": {},
   "source": [
    "---"
   ]
  }
 ],
 "metadata": {
  "kernelspec": {
   "display_name": "python_course",
   "language": "python",
   "name": "python3"
  },
  "language_info": {
   "codemirror_mode": {
    "name": "ipython",
    "version": 3
   },
   "file_extension": ".py",
   "mimetype": "text/x-python",
   "name": "python",
   "nbconvert_exporter": "python",
   "pygments_lexer": "ipython3",
   "version": "3.11.11"
  }
 },
 "nbformat": 4,
 "nbformat_minor": 5
}
