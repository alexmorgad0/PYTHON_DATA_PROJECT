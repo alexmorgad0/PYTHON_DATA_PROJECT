{
 "cells": [
  {
   "cell_type": "markdown",
   "id": "c938f726",
   "metadata": {},
   "source": [
    "<a target=\"_blank\" href=\"https://colab.research.google.com/github/lukebarousse/Python_Data_Analytics_Course/blob/main/4_Problems/2_04_Pandas Pivot Tables.ipynb\">\n",
    "  <img src=\"https://colab.research.google.com/assets/colab-badge.svg\" alt=\"Open In Colab\"/>\n",
    "</a>"
   ]
  },
  {
   "cell_type": "code",
   "execution_count": 1,
   "id": "fa26b1fd",
   "metadata": {},
   "outputs": [
    {
     "name": "stderr",
     "output_type": "stream",
     "text": [
      "c:\\Users\\alexm\\anaconda3\\envs\\python_course\\Lib\\site-packages\\tqdm\\auto.py:21: TqdmWarning: IProgress not found. Please update jupyter and ipywidgets. See https://ipywidgets.readthedocs.io/en/stable/user_install.html\n",
      "  from .autonotebook import tqdm as notebook_tqdm\n"
     ]
    }
   ],
   "source": [
    "# Importing Libraries\n",
    "import pandas as pd\n",
    "from datasets import load_dataset\n",
    "import matplotlib.pyplot as plt  \n",
    "\n",
    "# Loading Data\n",
    "dataset = load_dataset('lukebarousse/data_jobs')\n",
    "df = dataset['train'].to_pandas()\n",
    "\n",
    "# Data Cleanup\n",
    "df['job_posted_date'] = pd.to_datetime(df['job_posted_date'])"
   ]
  },
  {
   "cell_type": "markdown",
   "id": "d4aeedce",
   "metadata": {},
   "source": [
    "## 🟩 Count Job Postings by Title and Country (2.4.1)"
   ]
  },
  {
   "cell_type": "code",
   "execution_count": 7,
   "id": "32f1208b",
   "metadata": {},
   "outputs": [
    {
     "data": {
      "text/plain": [
       "job_country  job_title_short          \n",
       "Afghanistan  Business Analyst              4\n",
       "             Data Analyst                  9\n",
       "             Data Scientist                1\n",
       "             Senior Data Analyst           2\n",
       "Albania      Business Analyst             11\n",
       "             Cloud Engineer                1\n",
       "             Data Analyst                 36\n",
       "             Data Engineer                30\n",
       "             Data Scientist               12\n",
       "             Machine Learning Engineer     4\n",
       "dtype: int64"
      ]
     },
     "execution_count": 7,
     "metadata": {},
     "output_type": "execute_result"
    }
   ],
   "source": [
    "df_pivot = df.pivot_table(\n",
    "         \n",
    "    index=['job_country','job_title_short'],       \n",
    "    aggfunc='size'                 \n",
    ")\n",
    "df_pivot.head(10)"
   ]
  },
  {
   "cell_type": "markdown",
   "id": "e4d809bb",
   "metadata": {},
   "source": [
    "---"
   ]
  },
  {
   "cell_type": "markdown",
   "id": "00be896a",
   "metadata": {},
   "source": [
    "## 🟨 Salary Stats by Job Title (2.4.2)"
   ]
  },
  {
   "cell_type": "code",
   "execution_count": 16,
   "id": "e8626e94",
   "metadata": {},
   "outputs": [
    {
     "data": {
      "text/html": [
       "<div>\n",
       "<style scoped>\n",
       "    .dataframe tbody tr th:only-of-type {\n",
       "        vertical-align: middle;\n",
       "    }\n",
       "\n",
       "    .dataframe tbody tr th {\n",
       "        vertical-align: top;\n",
       "    }\n",
       "\n",
       "    .dataframe thead tr th {\n",
       "        text-align: left;\n",
       "    }\n",
       "\n",
       "    .dataframe thead tr:last-of-type th {\n",
       "        text-align: right;\n",
       "    }\n",
       "</style>\n",
       "<table border=\"1\" class=\"dataframe\">\n",
       "  <thead>\n",
       "    <tr>\n",
       "      <th></th>\n",
       "      <th>mean</th>\n",
       "      <th>max</th>\n",
       "      <th>min</th>\n",
       "    </tr>\n",
       "    <tr>\n",
       "      <th></th>\n",
       "      <th>salary_year_avg</th>\n",
       "      <th>salary_year_avg</th>\n",
       "      <th>salary_year_avg</th>\n",
       "    </tr>\n",
       "    <tr>\n",
       "      <th>company_name</th>\n",
       "      <th></th>\n",
       "      <th></th>\n",
       "      <th></th>\n",
       "    </tr>\n",
       "  </thead>\n",
       "  <tbody>\n",
       "    <tr>\n",
       "      <th>#twiceasnice Recruiting</th>\n",
       "      <td>77750.000000</td>\n",
       "      <td>120000.000000</td>\n",
       "      <td>61000.000000</td>\n",
       "    </tr>\n",
       "    <tr>\n",
       "      <th>/dev/color</th>\n",
       "      <td>125000.000000</td>\n",
       "      <td>125000.000000</td>\n",
       "      <td>125000.000000</td>\n",
       "    </tr>\n",
       "    <tr>\n",
       "      <th>0nward Select</th>\n",
       "      <td>92500.000000</td>\n",
       "      <td>92500.000000</td>\n",
       "      <td>92500.000000</td>\n",
       "    </tr>\n",
       "    <tr>\n",
       "      <th>1 Point System</th>\n",
       "      <td>137290.484375</td>\n",
       "      <td>137290.484375</td>\n",
       "      <td>137290.484375</td>\n",
       "    </tr>\n",
       "    <tr>\n",
       "      <th>1 Point System LLC.</th>\n",
       "      <td>170000.000000</td>\n",
       "      <td>170000.000000</td>\n",
       "      <td>170000.000000</td>\n",
       "    </tr>\n",
       "    <tr>\n",
       "      <th>...</th>\n",
       "      <td>...</td>\n",
       "      <td>...</td>\n",
       "      <td>...</td>\n",
       "    </tr>\n",
       "    <tr>\n",
       "      <th>zooplus SE</th>\n",
       "      <td>161750.000000</td>\n",
       "      <td>166000.000000</td>\n",
       "      <td>157500.000000</td>\n",
       "    </tr>\n",
       "    <tr>\n",
       "      <th>ztp</th>\n",
       "      <td>95000.000000</td>\n",
       "      <td>95000.000000</td>\n",
       "      <td>95000.000000</td>\n",
       "    </tr>\n",
       "    <tr>\n",
       "      <th>ЛАНИТ</th>\n",
       "      <td>400000.000000</td>\n",
       "      <td>400000.000000</td>\n",
       "      <td>400000.000000</td>\n",
       "    </tr>\n",
       "    <tr>\n",
       "      <th>Технологическая компания</th>\n",
       "      <td>280000.000000</td>\n",
       "      <td>280000.000000</td>\n",
       "      <td>280000.000000</td>\n",
       "    </tr>\n",
       "    <tr>\n",
       "      <th>​Illinois State Board of Education</th>\n",
       "      <td>62536.000000</td>\n",
       "      <td>62536.000000</td>\n",
       "      <td>62536.000000</td>\n",
       "    </tr>\n",
       "  </tbody>\n",
       "</table>\n",
       "<p>7316 rows × 3 columns</p>\n",
       "</div>"
      ],
      "text/plain": [
       "                                              mean             max  \\\n",
       "                                   salary_year_avg salary_year_avg   \n",
       "company_name                                                         \n",
       "#twiceasnice Recruiting               77750.000000   120000.000000   \n",
       "/dev/color                           125000.000000   125000.000000   \n",
       "0nward Select                         92500.000000    92500.000000   \n",
       "1 Point System                       137290.484375   137290.484375   \n",
       "1 Point System LLC.                  170000.000000   170000.000000   \n",
       "...                                            ...             ...   \n",
       "zooplus SE                           161750.000000   166000.000000   \n",
       "ztp                                   95000.000000    95000.000000   \n",
       "ЛАНИТ                                400000.000000   400000.000000   \n",
       "Технологическая компания             280000.000000   280000.000000   \n",
       "​Illinois State Board of Education    62536.000000    62536.000000   \n",
       "\n",
       "                                               min  \n",
       "                                   salary_year_avg  \n",
       "company_name                                        \n",
       "#twiceasnice Recruiting               61000.000000  \n",
       "/dev/color                           125000.000000  \n",
       "0nward Select                         92500.000000  \n",
       "1 Point System                       137290.484375  \n",
       "1 Point System LLC.                  170000.000000  \n",
       "...                                            ...  \n",
       "zooplus SE                           157500.000000  \n",
       "ztp                                   95000.000000  \n",
       "ЛАНИТ                                400000.000000  \n",
       "Технологическая компания             280000.000000  \n",
       "​Illinois State Board of Education    62536.000000  \n",
       "\n",
       "[7316 rows x 3 columns]"
      ]
     },
     "execution_count": 16,
     "metadata": {},
     "output_type": "execute_result"
    }
   ],
   "source": [
    "df_new = df.pivot_table(\n",
    "    values='salary_year_avg',        # The data to aggregate\n",
    "    index='company_name',             # Rows (index of pivot table)       \n",
    "    aggfunc=['mean', 'max', 'min']                 # Aggregation function\n",
    ")\n",
    "\n",
    "df_new"
   ]
  },
  {
   "cell_type": "markdown",
   "id": "2dc1951b",
   "metadata": {},
   "source": [
    "---"
   ]
  },
  {
   "cell_type": "markdown",
   "id": "69a27730",
   "metadata": {},
   "source": [
    "## 🟥 Sum Salary by Title and Country (2.4.3)"
   ]
  },
  {
   "cell_type": "code",
   "execution_count": 22,
   "id": "2affb01f",
   "metadata": {},
   "outputs": [
    {
     "data": {
      "text/html": [
       "<div>\n",
       "<style scoped>\n",
       "    .dataframe tbody tr th:only-of-type {\n",
       "        vertical-align: middle;\n",
       "    }\n",
       "\n",
       "    .dataframe tbody tr th {\n",
       "        vertical-align: top;\n",
       "    }\n",
       "\n",
       "    .dataframe thead th {\n",
       "        text-align: right;\n",
       "    }\n",
       "</style>\n",
       "<table border=\"1\" class=\"dataframe\">\n",
       "  <thead>\n",
       "    <tr style=\"text-align: right;\">\n",
       "      <th></th>\n",
       "      <th></th>\n",
       "      <th>salary_year_avg</th>\n",
       "    </tr>\n",
       "    <tr>\n",
       "      <th>company_name</th>\n",
       "      <th>job_country</th>\n",
       "      <th></th>\n",
       "    </tr>\n",
       "  </thead>\n",
       "  <tbody>\n",
       "    <tr>\n",
       "      <th rowspan=\"2\" valign=\"top\">ACT</th>\n",
       "      <th>Sudan</th>\n",
       "      <td>225000.0</td>\n",
       "    </tr>\n",
       "    <tr>\n",
       "      <th>United States</th>\n",
       "      <td>225000.0</td>\n",
       "    </tr>\n",
       "    <tr>\n",
       "      <th>Abbott</th>\n",
       "      <th>United States</th>\n",
       "      <td>204000.0</td>\n",
       "    </tr>\n",
       "    <tr>\n",
       "      <th>Airbnb</th>\n",
       "      <th>United States</th>\n",
       "      <td>212500.0</td>\n",
       "    </tr>\n",
       "    <tr>\n",
       "      <th rowspan=\"2\" valign=\"top\">Airtable</th>\n",
       "      <th>Sudan</th>\n",
       "      <td>215500.0</td>\n",
       "    </tr>\n",
       "    <tr>\n",
       "      <th>United States</th>\n",
       "      <td>233500.0</td>\n",
       "    </tr>\n",
       "    <tr>\n",
       "      <th rowspan=\"2\" valign=\"top\">Algo Capital Group</th>\n",
       "      <th>Sudan</th>\n",
       "      <td>325000.0</td>\n",
       "    </tr>\n",
       "    <tr>\n",
       "      <th>United States</th>\n",
       "      <td>350000.0</td>\n",
       "    </tr>\n",
       "    <tr>\n",
       "      <th>Amadeus Search</th>\n",
       "      <th>United States</th>\n",
       "      <td>232500.0</td>\n",
       "    </tr>\n",
       "    <tr>\n",
       "      <th>Analog Devices, Inc</th>\n",
       "      <th>United States</th>\n",
       "      <td>375000.0</td>\n",
       "    </tr>\n",
       "  </tbody>\n",
       "</table>\n",
       "</div>"
      ],
      "text/plain": [
       "                                   salary_year_avg\n",
       "company_name        job_country                   \n",
       "ACT                 Sudan                 225000.0\n",
       "                    United States         225000.0\n",
       "Abbott              United States         204000.0\n",
       "Airbnb              United States         212500.0\n",
       "Airtable            Sudan                 215500.0\n",
       "                    United States         233500.0\n",
       "Algo Capital Group  Sudan                 325000.0\n",
       "                    United States         350000.0\n",
       "Amadeus Search      United States         232500.0\n",
       "Analog Devices, Inc United States         375000.0"
      ]
     },
     "execution_count": 22,
     "metadata": {},
     "output_type": "execute_result"
    }
   ],
   "source": [
    "df_pivot = df[df['job_title_short'] == 'Data Scientist'].pivot_table(\n",
    "    values='salary_year_avg',        # The data to aggregate\n",
    "    index=['company_name', 'job_country'],            # Rows (index of pivot table)       \n",
    "    aggfunc='median'                 # Aggregation function\n",
    ")\n",
    "\n",
    "df_pivot_filtered = df_pivot[df_pivot['salary_year_avg'] > 200000]\n",
    "\n",
    "df_pivot_filtered.head(10)"
   ]
  },
  {
   "cell_type": "markdown",
   "id": "a358d02d",
   "metadata": {},
   "source": [
    "---"
   ]
  }
 ],
 "metadata": {
  "kernelspec": {
   "display_name": "python_course",
   "language": "python",
   "name": "python3"
  },
  "language_info": {
   "codemirror_mode": {
    "name": "ipython",
    "version": 3
   },
   "file_extension": ".py",
   "mimetype": "text/x-python",
   "name": "python",
   "nbconvert_exporter": "python",
   "pygments_lexer": "ipython3",
   "version": "3.11.11"
  }
 },
 "nbformat": 4,
 "nbformat_minor": 5
}
